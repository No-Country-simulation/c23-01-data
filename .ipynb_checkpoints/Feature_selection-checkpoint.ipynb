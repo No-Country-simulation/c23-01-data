{
 "cells": [
  {
   "cell_type": "markdown",
   "id": "a8c307d7-7ad7-484d-accd-24194db40621",
   "metadata": {},
   "source": [
    "# Import libraries"
   ]
  },
  {
   "cell_type": "code",
   "execution_count": 1,
   "id": "419dde4c-8c3f-4b4f-9d89-ed484c4bf946",
   "metadata": {},
   "outputs": [],
   "source": [
    "# Scientific libraries\n",
    "\n",
    "import numpy as np\n",
    "import math\n",
    "\n",
    "# Visualization Libraries\n",
    "\n",
    "import matplotlib.pyplot as plt\n",
    "import seaborn as sns\n",
    "import plotly.express as px\n",
    "\n",
    "# Data analysis and ML libraries\n",
    "\n",
    "import pandas as pd\n",
    "from sklearn.linear_model import LogisticRegression\n",
    "from sklearn.tree import DecisionTreeClassifier, plot_tree\n",
    "from sklearn.metrics import accuracy_score, recall_score, f1_score, classification_report\n",
    "from sklearn.model_selection import train_test_split\n",
    "\n",
    "#feature selector\n",
    "from sklearn.feature_selection import SelectKBest, chi2, f_classif\n",
    "\n",
    "#pipeline\n",
    "from sklearn.pipeline import Pipeline, make_pipeline\n",
    "\n",
    "#warnings\n",
    "import warnings\n",
    "warnings.filterwarnings(\"ignore\")"
   ]
  },
  {
   "cell_type": "markdown",
   "id": "016b0b6b-8733-4aa1-9770-19c65580a2e7",
   "metadata": {},
   "source": [
    "# Import training and test sets"
   ]
  },
  {
   "cell_type": "code",
   "execution_count": 2,
   "id": "0f3151fe-2894-487e-aadd-763f576f9b0b",
   "metadata": {},
   "outputs": [],
   "source": [
    "X_train = pd.read_csv('Data/training_feat.csv')\n",
    "y_train = pd.read_csv('Data/training_target.csv')\n",
    "X_test = pd.read_csv('Data/test_feat.csv')\n",
    "y_test = pd.read_csv('Data/test_target.csv')"
   ]
  },
  {
   "cell_type": "code",
   "execution_count": 3,
   "id": "616b7249-1d41-479f-8e9f-46ea1e70684a",
   "metadata": {},
   "outputs": [
    {
     "data": {
      "text/plain": [
       "(183579, 21)"
      ]
     },
     "execution_count": 3,
     "metadata": {},
     "output_type": "execute_result"
    }
   ],
   "source": [
    "X_train.shape"
   ]
  },
  {
   "cell_type": "markdown",
   "id": "17156705-f064-48ab-85c3-b1d8064a5b87",
   "metadata": {},
   "source": [
    "# Feature selection: model independent techniques"
   ]
  },
  {
   "cell_type": "markdown",
   "id": "bd745015-3c9c-4809-8ddd-f05760a35687",
   "metadata": {},
   "source": [
    "## SelectKBest"
   ]
  },
  {
   "cell_type": "markdown",
   "id": "b629c768-68e2-40f7-81c0-11277084094b",
   "metadata": {},
   "source": [
    "Test using two score functions\n",
    "\n",
    "- chi2\n",
    "- f_classif"
   ]
  },
  {
   "cell_type": "code",
   "execution_count": 4,
   "id": "6507ccb2-23a2-40ac-958f-e2df3de51cae",
   "metadata": {},
   "outputs": [],
   "source": [
    "def selector_Kbest(X, y, score_func=chi2, k=8):\n",
    "\n",
    "    #Instantiate KBest selector\n",
    "    selector = SelectKBest(score_func=score_func, k=k)\n",
    "    selector.fit(X,y)\n",
    "    \n",
    "    # Get the selected feature indices\n",
    "    selected_columns = selector.get_support(indices=True)\n",
    "    important_features = X_train.columns[selected_columns].tolist()\n",
    "    #print(selector.scores_)\n",
    "    #print(selector.pvalues_)\n",
    "    df = pd.DataFrame(selector.scores_,X_train.columns).rename(columns={0:'score'})\n",
    "    print(df.sort_values(by='score',ascending=False))\n",
    "\n",
    "    return important_features"
   ]
  },
  {
   "cell_type": "code",
   "execution_count": 5,
   "id": "8008d62f-868e-497e-a6c7-4420f79e75f5",
   "metadata": {},
   "outputs": [
    {
     "name": "stdout",
     "output_type": "stream",
     "text": [
      "                           score\n",
      "Physical_health     77409.074223\n",
      "BMI                 12287.060612\n",
      "Mental_health        8469.316193\n",
      "Age                  6860.252989\n",
      "High_BP              6482.689469\n",
      "Difficulty_walking   6236.702230\n",
      "General_health       6060.169451\n",
      "Heart_condition      4678.899087\n",
      "High_Chol            3855.553525\n",
      "Income               2639.123665\n",
      "Stroke               1685.868465\n",
      "Heavy_drinking        752.372835\n",
      "Physical_activity     493.727237\n",
      "Education             373.592865\n",
      "Smoker                206.310654\n",
      "Sex                   108.644496\n",
      "Veggies                62.163159\n",
      "No_Doctor_bc_Cost      43.954521\n",
      "Fruits                 39.372131\n",
      "Chol_check             38.737227\n",
      "Health_plan             7.216212\n"
     ]
    }
   ],
   "source": [
    "#using kbest chi2\n",
    "\n",
    "best_features_chi2 = selector_Kbest(X_train, y_train, score_func=chi2, k=9)\n"
   ]
  },
  {
   "cell_type": "code",
   "execution_count": 7,
   "id": "086ae036-d387-4e9a-bd89-5b63e4854269",
   "metadata": {},
   "outputs": [
    {
     "name": "stdout",
     "output_type": "stream",
     "text": [
      "                           score\n",
      "General_health      15028.459921\n",
      "High_BP             12696.639767\n",
      "BMI                  8028.929585\n",
      "Difficulty_walking   7990.290227\n",
      "High_Chol            7172.991333\n",
      "Age                  5995.341829\n",
      "Heart_condition      5368.293621\n",
      "Physical_health      4532.827198\n",
      "Income               3621.117911\n",
      "Education            1906.303916\n",
      "Physical_activity    1875.211102\n",
      "Stroke               1781.432236\n",
      "Chol_check            963.943424\n",
      "Heavy_drinking        804.709027\n",
      "Mental_health         500.257213\n",
      "Smoker                386.635201\n",
      "Veggies               302.338736\n",
      "Sex                   193.495629\n",
      "Health_plan           133.841125\n",
      "Fruits                101.570460\n",
      "No_Doctor_bc_Cost      48.478989\n"
     ]
    }
   ],
   "source": [
    "#using f_classif\n",
    "best_features_f_classif = selector_Kbest(X_train, y_train, score_func=f_classif, k=9)"
   ]
  },
  {
   "cell_type": "code",
   "execution_count": 8,
   "id": "8e8c0e02-71ff-4e6c-ac67-f1e8503f8fbc",
   "metadata": {},
   "outputs": [
    {
     "data": {
      "text/plain": [
       "['High_BP',\n",
       " 'High_Chol',\n",
       " 'BMI',\n",
       " 'Heart_condition',\n",
       " 'General_health',\n",
       " 'Mental_health',\n",
       " 'Physical_health',\n",
       " 'Difficulty_walking',\n",
       " 'Age']"
      ]
     },
     "execution_count": 8,
     "metadata": {},
     "output_type": "execute_result"
    }
   ],
   "source": [
    "best_features_chi2"
   ]
  },
  {
   "cell_type": "code",
   "execution_count": 9,
   "id": "37753591-3cc8-403b-95ae-2fb6bf496fa4",
   "metadata": {},
   "outputs": [
    {
     "data": {
      "text/plain": [
       "['High_BP',\n",
       " 'High_Chol',\n",
       " 'BMI',\n",
       " 'Heart_condition',\n",
       " 'General_health',\n",
       " 'Physical_health',\n",
       " 'Difficulty_walking',\n",
       " 'Age',\n",
       " 'Income']"
      ]
     },
     "execution_count": 9,
     "metadata": {},
     "output_type": "execute_result"
    }
   ],
   "source": [
    "best_features_f_classif"
   ]
  },
  {
   "cell_type": "code",
   "execution_count": 10,
   "id": "46da9e84-87fd-4ee7-907d-b0b1e45eed25",
   "metadata": {},
   "outputs": [],
   "source": [
    "#### For now let's work with f_classif"
   ]
  },
  {
   "cell_type": "code",
   "execution_count": 11,
   "id": "754cda05-2c6c-4a97-8a87-767a8bb6750b",
   "metadata": {},
   "outputs": [],
   "source": [
    "#New training set"
   ]
  },
  {
   "cell_type": "code",
   "execution_count": 12,
   "id": "fdbce5a2-6cff-4c8b-913c-971221fb924e",
   "metadata": {},
   "outputs": [],
   "source": [
    "X_train = X_train[best_features_f_classif]\n",
    "X_test = X_test[best_features_f_classif]"
   ]
  },
  {
   "cell_type": "code",
   "execution_count": 13,
   "id": "1a1fd587-7126-4fc9-91d4-edfc5761d2d1",
   "metadata": {},
   "outputs": [],
   "source": [
    "#from pathlib import Path \n",
    "X_train.to_csv('Data/best_training_feat.csv', index=False)\n",
    "X_test.to_csv('Data/best_test_feat.csv', index=False)"
   ]
  }
 ],
 "metadata": {
  "kernelspec": {
   "display_name": "Python 3 (ipykernel)",
   "language": "python",
   "name": "python3"
  },
  "language_info": {
   "codemirror_mode": {
    "name": "ipython",
    "version": 3
   },
   "file_extension": ".py",
   "mimetype": "text/x-python",
   "name": "python",
   "nbconvert_exporter": "python",
   "pygments_lexer": "ipython3",
   "version": "3.10.15"
  }
 },
 "nbformat": 4,
 "nbformat_minor": 5
}
