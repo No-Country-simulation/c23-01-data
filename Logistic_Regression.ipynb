{
 "cells": [
  {
   "cell_type": "markdown",
   "id": "e1cceb6f-9f1c-4ba6-9abc-2d08d894e220",
   "metadata": {},
   "source": [
    "# Import Libraries"
   ]
  },
  {
   "cell_type": "code",
   "execution_count": 1,
   "id": "30e0f237-1b03-41ae-b76b-eed455d42a27",
   "metadata": {},
   "outputs": [],
   "source": [
    "# Scientific libraries\n",
    "\n",
    "import numpy as np\n",
    "import math\n",
    "\n",
    "# Visualization Libraries\n",
    "\n",
    "import matplotlib.pyplot as plt\n",
    "import seaborn as sns\n",
    "import plotly.express as px\n",
    "\n",
    "# Data analysis and ML libraries\n",
    "\n",
    "import pandas as pd\n",
    "from sklearn.linear_model import LogisticRegression\n",
    "from sklearn.tree import DecisionTreeClassifier, plot_tree\n",
    "from sklearn.ensemble import RandomForestClassifier, GradientBoostingClassifier\n",
    "from sklearn.metrics import accuracy_score, recall_score, f1_score, classification_report\n",
    "from sklearn.metrics import (\n",
    "    ConfusionMatrixDisplay,\n",
    "    classification_report,\n",
    "    confusion_matrix,\n",
    ")\n",
    "from sklearn.model_selection import train_test_split\n",
    "\n",
    "\n",
    "# Preprocessing\n",
    "from sklearn.preprocessing import StandardScaler, MinMaxScaler, RobustScaler, PolynomialFeatures\n",
    "from sklearn.feature_selection import SelectKBest, chi2, f_classif\n",
    "\n",
    "from imblearn.over_sampling import SMOTE, SMOTEN\n",
    "from imblearn.under_sampling import RandomUnderSampler, NearMiss,TomekLinks\n",
    "from imblearn.combine import SMOTETomek, SMOTEENN\n",
    "\n",
    "\n",
    "from imblearn.pipeline import Pipeline, make_pipeline"
   ]
  },
  {
   "cell_type": "code",
   "execution_count": 2,
   "id": "2e8ff6cf-1e66-45bb-96aa-81af28767072",
   "metadata": {},
   "outputs": [],
   "source": [
    "import warnings\n",
    "warnings.filterwarnings(\"ignore\")"
   ]
  },
  {
   "cell_type": "markdown",
   "id": "52a8d9f4-fb14-467e-b242-3ad66daeeb0d",
   "metadata": {},
   "source": [
    "# Import training and test sets"
   ]
  },
  {
   "cell_type": "code",
   "execution_count": 3,
   "id": "d66415b4-7cb4-4779-9962-850ce1589c08",
   "metadata": {},
   "outputs": [],
   "source": [
    "#X_train = pd.read_csv('Da')\n",
    "X_train = pd.read_csv('Data/best_training_feat.csv')\n",
    "y_train = pd.read_csv('Data/training_target.csv')\n",
    "X_test = pd.read_csv('Data/best_test_feat.csv')\n",
    "y_test = pd.read_csv('Data/test_target.csv')"
   ]
  },
  {
   "cell_type": "code",
   "execution_count": 4,
   "id": "78d36e38-bac7-4313-818f-c733a6333b47",
   "metadata": {},
   "outputs": [
    {
     "data": {
      "text/plain": [
       "(183579, 9)"
      ]
     },
     "execution_count": 4,
     "metadata": {},
     "output_type": "execute_result"
    }
   ],
   "source": [
    "X_train.shape\n"
   ]
  },
  {
   "cell_type": "code",
   "execution_count": 5,
   "id": "8fe28da8-5466-4b33-a74a-d5e47b9fab5b",
   "metadata": {},
   "outputs": [
    {
     "data": {
      "text/plain": [
       "(45895, 9)"
      ]
     },
     "execution_count": 5,
     "metadata": {},
     "output_type": "execute_result"
    }
   ],
   "source": [
    "X_test.shape"
   ]
  },
  {
   "cell_type": "markdown",
   "id": "877d333e-557f-4328-9d18-6ab8b017365e",
   "metadata": {},
   "source": [
    "# Build Model"
   ]
  },
  {
   "cell_type": "code",
   "execution_count": 6,
   "id": "9fd00233-c3f7-4b69-b067-102ceea23613",
   "metadata": {},
   "outputs": [
    {
     "name": "stdout",
     "output_type": "stream",
     "text": [
      "The classes percentages are:\n",
      "Diabetes_status\n",
      "0                  0.847052\n",
      "1                  0.152948\n",
      "dtype: float64\n"
     ]
    }
   ],
   "source": [
    "target_count = y_train.value_counts(normalize=True)\n",
    "print(\"The classes percentages are:\")\n",
    "print(target_count)"
   ]
  },
  {
   "cell_type": "markdown",
   "id": "c07d2d2f-2542-4978-8745-6efdba596d06",
   "metadata": {},
   "source": [
    "### Baseline: train the model without resampling/balancing the data"
   ]
  },
  {
   "cell_type": "markdown",
   "id": "450ff173-5361-4f3c-bbaf-201ffd5d8bab",
   "metadata": {},
   "source": [
    "In this case, we want to build a diabetes predictor. Therefore we need to minimize the numbers of false positives in our model\n",
    "\n",
    "- Therefore we need to minimize the numbers of false positives in our model\n",
    "- We want a recall as close to 1 as possible\n",
    "- We want an F1-score of at least 0.5"
   ]
  },
  {
   "cell_type": "code",
   "execution_count": 7,
   "id": "ef2ffa20-1d1c-4342-a0fb-1a91db65dc9f",
   "metadata": {},
   "outputs": [
    {
     "name": "stdout",
     "output_type": "stream",
     "text": [
      "Baseline Accuracy: 0.85\n"
     ]
    }
   ],
   "source": [
    "target_count = y_train.value_counts(normalize=True)\n",
    "acc_baseline = target_count.max()\n",
    "print(\"Baseline Accuracy:\", round(acc_baseline, 2))"
   ]
  },
  {
   "cell_type": "code",
   "execution_count": 8,
   "id": "2948967a-63b9-4ed5-a3f5-b93c20e81328",
   "metadata": {},
   "outputs": [
    {
     "name": "stdout",
     "output_type": "stream",
     "text": [
      "Classification report for training data\n",
      "              precision    recall  f1-score   support\n",
      "\n",
      "           0       0.86      0.98      0.92    155501\n",
      "           1       0.53      0.14      0.22     28078\n",
      "\n",
      "    accuracy                           0.85    183579\n",
      "   macro avg       0.70      0.56      0.57    183579\n",
      "weighted avg       0.81      0.85      0.81    183579\n",
      "\n",
      "Classification report for test data\n",
      "              precision    recall  f1-score   support\n",
      "\n",
      "           0       0.86      0.98      0.92     38876\n",
      "           1       0.54      0.14      0.23      7019\n",
      "\n",
      "    accuracy                           0.85     45895\n",
      "   macro avg       0.70      0.56      0.57     45895\n",
      "weighted avg       0.81      0.85      0.81     45895\n",
      "\n"
     ]
    }
   ],
   "source": [
    "## Build model\n",
    "model = make_pipeline(\n",
    "    StandardScaler(),\n",
    "    LogisticRegression(max_iter=1000)\n",
    ")\n",
    "\n",
    "## Fit model to training data\n",
    "model.fit(X_train,y_train)\n",
    "\n",
    "## Classification report\n",
    "print(\"Classification report for training data\")\n",
    "print(classification_report(y_train,model.predict(X_train)))\n",
    "\n",
    "print(\"Classification report for test data\")\n",
    "print(classification_report(y_test,model.predict(X_test)))"
   ]
  },
  {
   "cell_type": "code",
   "execution_count": 9,
   "id": "350e62e2-26c6-416b-abcc-c4c0fb374617",
   "metadata": {},
   "outputs": [
    {
     "name": "stdout",
     "output_type": "stream",
     "text": [
      "Baseline Recall: 0.14\n",
      "Baseline F1: 0.22\n"
     ]
    }
   ],
   "source": [
    "recall_baseline = recall_score(y_train,model.predict(X_train))\n",
    "f1_baseline = f1_score(y_train,model.predict(X_train))\n",
    "print(\"Baseline Recall:\", round(recall_baseline, 2))\n",
    "print(\"Baseline F1:\", round(f1_baseline, 2))"
   ]
  },
  {
   "cell_type": "markdown",
   "id": "5be5e9a2-3103-435f-84e7-9ad9ef1fcc5d",
   "metadata": {},
   "source": [
    "REMARKS:\n",
    "\n",
    "- Accuracy: same as baseline for both training and test sets\n",
    "- Recall: Very low -> only 14 % of positives in the test set are correctly identified by the model\n",
    "- F1: Low as well (0.22) -> Typically a good recall score lies between 0.5-0.8"
   ]
  },
  {
   "cell_type": "markdown",
   "id": "50bed2c0-7dbe-4958-952e-2a64e919ea35",
   "metadata": {},
   "source": [
    "## Iterate and evaluate"
   ]
  },
  {
   "cell_type": "markdown",
   "id": "9cdebb5d-5d5e-40be-9379-dcb1d43891e1",
   "metadata": {},
   "source": [
    "### Train the model imposing a balanced class weight!"
   ]
  },
  {
   "cell_type": "markdown",
   "id": "d6f9a579-af4f-4b85-a7cf-94545b2c7647",
   "metadata": {},
   "source": [
    "- Imposing a balanced class weight deals with the class imbalance!\n",
    "- Later we can try resampling the data"
   ]
  },
  {
   "cell_type": "code",
   "execution_count": 10,
   "id": "4e90230d-4247-4855-9c32-0bf46c43e20c",
   "metadata": {},
   "outputs": [
    {
     "name": "stdout",
     "output_type": "stream",
     "text": [
      "Classification report for test data\n",
      "              precision    recall  f1-score   support\n",
      "\n",
      "           0       0.94      0.71      0.81     38876\n",
      "           1       0.32      0.76      0.45      7019\n",
      "\n",
      "    accuracy                           0.71     45895\n",
      "   macro avg       0.63      0.73      0.63     45895\n",
      "weighted avg       0.85      0.71      0.75     45895\n",
      "\n"
     ]
    },
    {
     "data": {
      "image/png": "[encoded data removed]",
      "text/plain": [
       "<Figure size 640x480 with 2 Axes>"
      ]
     },
     "metadata": {},
     "output_type": "display_data"
    }
   ],
   "source": [
    "## Build model\n",
    "model = make_pipeline(\n",
    "    RobustScaler(),\n",
    "    LogisticRegression(max_iter=1000,class_weight='balanced')\n",
    ")\n",
    "\n",
    "## Fit model to training data\n",
    "model.fit(X_train,y_train)\n",
    "\n",
    "print(\"Classification report for test data\")\n",
    "print(classification_report(y_test,model.predict(X_test)))\n",
    "\n",
    "# Plot confusion matrix\n",
    "ConfusionMatrixDisplay.from_estimator(model,X_test,y_test);"
   ]
  },
  {
   "cell_type": "code",
   "execution_count": 11,
   "id": "3c415269-e45b-4350-89e2-8553cb54349c",
   "metadata": {},
   "outputs": [
    {
     "name": "stdout",
     "output_type": "stream",
     "text": [
      "Train Recall: 0.75\n",
      "Train F1: 0.45\n"
     ]
    }
   ],
   "source": [
    "recall_baseline = recall_score(y_train,model.predict(X_train))\n",
    "f1_baseline = f1_score(y_train,model.predict(X_train))\n",
    "print(\"Train Recall:\", round(recall_baseline, 2))\n",
    "print(\"Train F1:\", round(f1_baseline, 2))"
   ]
  },
  {
   "cell_type": "code",
   "execution_count": 12,
   "id": "174db5a4-56d3-4ce8-8e34-7f6f055bf9b8",
   "metadata": {},
   "outputs": [
    {
     "name": "stdout",
     "output_type": "stream",
     "text": [
      "Test Recall: 0.76\n",
      "Test F1: 0.45\n"
     ]
    }
   ],
   "source": [
    "recall_baseline = recall_score(y_test,model.predict(X_test))\n",
    "f1_baseline = f1_score(y_test,model.predict(X_test))\n",
    "print(\"Test Recall:\", round(recall_baseline, 2))\n",
    "print(\"Test F1:\", round(f1_baseline, 2))"
   ]
  },
  {
   "cell_type": "markdown",
   "id": "ddf24e9a-97f4-4b88-bebc-aa844e5c56e3",
   "metadata": {},
   "source": [
    "REMARKS:\n",
    "\n",
    "- Test Recall: Good. Also slightly beats the training recall -> 76 % of positives in the test set are correctly identified by the model\n",
    "- F1: We get 0.45. Ideally, we would like to get an F1 of at least 0.5!\n",
    "- In general, the model is struggling to correctly identify positives and negatives"
   ]
  },
  {
   "cell_type": "markdown",
   "id": "d2e1fdff-97dc-412b-b3cf-17a2f03c6f80",
   "metadata": {},
   "source": [
    "## Communicate "
   ]
  },
  {
   "cell_type": "code",
   "execution_count": 13,
   "id": "b6987504-bd51-40bc-9ae5-17200809382a",
   "metadata": {},
   "outputs": [],
   "source": [
    "# Coefficients of the regression\n",
    "\n",
    "importances = model.named_steps['logisticregression'].coef_[0]"
   ]
  },
  {
   "cell_type": "code",
   "execution_count": 14,
   "id": "cbf62f84-423c-4388-a37a-00fc6a76846d",
   "metadata": {},
   "outputs": [
    {
     "data": {
      "text/plain": [
       "Text(0.5, 1.0, 'Odds ratio by feature')"
      ]
     },
     "execution_count": 14,
     "metadata": {},
     "output_type": "execute_result"
    },
    {
     "data": {
      "image/png": "[encoded data removed]",
      "text/plain": [
       "<Figure size 640x480 with 1 Axes>"
      ]
     },
     "metadata": {},
     "output_type": "display_data"
    }
   ],
   "source": [
    "#Odds ratio\n",
    "\n",
    "feat_imp = pd.Series(np.exp(importances), index=X_train.columns).sort_values()\n",
    "feat_imp.plot(kind=\"bar\");\n",
    "#plt.xlabel(\"Features\")\n",
    "plt.ylabel(\"Odds Ratio\")\n",
    "plt.title(\"Odds ratio by feature\")"
   ]
  }
 ],
 "metadata": {
  "kernelspec": {
   "display_name": "Python 3 (ipykernel)",
   "language": "python",
   "name": "python3"
  },
  "language_info": {
   "codemirror_mode": {
    "name": "ipython",
    "version": 3
   },
   "file_extension": ".py",
   "mimetype": "text/x-python",
   "name": "python",
   "nbconvert_exporter": "python",
   "pygments_lexer": "ipython3",
   "version": "3.10.15"
  }
 },
 "nbformat": 4,
 "nbformat_minor": 5
}
